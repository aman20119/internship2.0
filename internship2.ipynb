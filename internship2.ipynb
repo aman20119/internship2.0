{
  "nbformat": 4,
  "nbformat_minor": 0,
  "metadata": {
    "colab": {
      "name": "internship2.ipynb",
      "provenance": [],
      "authorship_tag": "ABX9TyM6LQp24zOReNx13WWphDzZ",
      "include_colab_link": true
    },
    "kernelspec": {
      "name": "python3",
      "display_name": "Python 3"
    }
  },
  "cells": [
    {
      "cell_type": "markdown",
      "metadata": {
        "id": "view-in-github",
        "colab_type": "text"
      },
      "source": [
        "<a href=\"https://colab.research.google.com/github/aman20119/internship2.0/blob/main/internship2.ipynb\" target=\"_parent\"><img src=\"https://colab.research.google.com/assets/colab-badge.svg\" alt=\"Open In Colab\"/></a>"
      ]
    },
    {
      "cell_type": "markdown",
      "metadata": {
        "id": "fQ1CgY_ob4co"
      },
      "source": [
        "#extract pdf"
      ]
    },
    {
      "cell_type": "code",
      "metadata": {
        "id": "XoEU0MEXVmmj",
        "outputId": "47f1d2b3-514f-480c-cf49-4a975969e25f",
        "colab": {
          "base_uri": "https://localhost:8080/"
        }
      },
      "source": [
        "! pip install requests"
      ],
      "execution_count": 6,
      "outputs": [
        {
          "output_type": "stream",
          "text": [
            "Requirement already satisfied: requests in /usr/local/lib/python3.6/dist-packages (2.23.0)\n",
            "Requirement already satisfied: urllib3!=1.25.0,!=1.25.1,<1.26,>=1.21.1 in /usr/local/lib/python3.6/dist-packages (from requests) (1.24.3)\n",
            "Requirement already satisfied: chardet<4,>=3.0.2 in /usr/local/lib/python3.6/dist-packages (from requests) (3.0.4)\n",
            "Requirement already satisfied: idna<3,>=2.5 in /usr/local/lib/python3.6/dist-packages (from requests) (2.10)\n",
            "Requirement already satisfied: certifi>=2017.4.17 in /usr/local/lib/python3.6/dist-packages (from requests) (2020.6.20)\n"
          ],
          "name": "stdout"
        }
      ]
    },
    {
      "cell_type": "code",
      "metadata": {
        "id": "ZF9Qa05bXMkt",
        "outputId": "6a1df10c-0e4d-4885-a80e-7287068b538a",
        "colab": {
          "base_uri": "https://localhost:8080/"
        }
      },
      "source": [
        "! pip install beautifulsoup4"
      ],
      "execution_count": 8,
      "outputs": [
        {
          "output_type": "stream",
          "text": [
            "Requirement already satisfied: beautifulsoup4 in /usr/local/lib/python3.6/dist-packages (4.6.3)\n"
          ],
          "name": "stdout"
        }
      ]
    },
    {
      "cell_type": "code",
      "metadata": {
        "id": "TQT6lhc-XyNR",
        "outputId": "2595bb9b-baec-4154-cb48-fd702b37d8a5",
        "colab": {
          "base_uri": "https://localhost:8080/"
        }
      },
      "source": [
        "! pip install PyPDF2"
      ],
      "execution_count": 9,
      "outputs": [
        {
          "output_type": "stream",
          "text": [
            "Collecting PyPDF2\n",
            "\u001b[?25l  Downloading https://files.pythonhosted.org/packages/b4/01/68fcc0d43daf4c6bdbc6b33cc3f77bda531c86b174cac56ef0ffdb96faab/PyPDF2-1.26.0.tar.gz (77kB)\n",
            "\r\u001b[K     |████▎                           | 10kB 18.3MB/s eta 0:00:01\r\u001b[K     |████████▌                       | 20kB 1.7MB/s eta 0:00:01\r\u001b[K     |████████████▊                   | 30kB 2.3MB/s eta 0:00:01\r\u001b[K     |█████████████████               | 40kB 2.6MB/s eta 0:00:01\r\u001b[K     |█████████████████████▏          | 51kB 2.0MB/s eta 0:00:01\r\u001b[K     |█████████████████████████▍      | 61kB 2.3MB/s eta 0:00:01\r\u001b[K     |█████████████████████████████▋  | 71kB 2.5MB/s eta 0:00:01\r\u001b[K     |████████████████████████████████| 81kB 2.2MB/s \n",
            "\u001b[?25hBuilding wheels for collected packages: PyPDF2\n",
            "  Building wheel for PyPDF2 (setup.py) ... \u001b[?25l\u001b[?25hdone\n",
            "  Created wheel for PyPDF2: filename=PyPDF2-1.26.0-cp36-none-any.whl size=61086 sha256=9726199a17ebe4a05a54ce7131db5b43eb3ff07fe5b8abec741b3a4ad074763a\n",
            "  Stored in directory: /root/.cache/pip/wheels/53/84/19/35bc977c8bf5f0c23a8a011aa958acd4da4bbd7a229315c1b7\n",
            "Successfully built PyPDF2\n",
            "Installing collected packages: PyPDF2\n",
            "Successfully installed PyPDF2-1.26.0\n"
          ],
          "name": "stdout"
        }
      ]
    },
    {
      "cell_type": "code",
      "metadata": {
        "id": "ippJMfDHYBy4",
        "outputId": "58047cb7-7c1f-4543-b261-1fbf6f154c17",
        "colab": {
          "base_uri": "https://localhost:8080/"
        }
      },
      "source": [
        "! pip install urllib3"
      ],
      "execution_count": 10,
      "outputs": [
        {
          "output_type": "stream",
          "text": [
            "Requirement already satisfied: urllib3 in /usr/local/lib/python3.6/dist-packages (1.24.3)\n"
          ],
          "name": "stdout"
        }
      ]
    },
    {
      "cell_type": "code",
      "metadata": {
        "id": "VqyK37pcYGlA"
      },
      "source": [
        "import PyPDF2 as p"
      ],
      "execution_count": 11,
      "outputs": []
    },
    {
      "cell_type": "code",
      "metadata": {
        "id": "_-Uls1FGbQgY"
      },
      "source": [
        "file = open(\"example.pdf\", \"rb\")"
      ],
      "execution_count": null,
      "outputs": []
    },
    {
      "cell_type": "code",
      "metadata": {
        "id": "EowR5hvsbNpp"
      },
      "source": [
        "pd = PdfFileReader(file)"
      ],
      "execution_count": null,
      "outputs": []
    },
    {
      "cell_type": "code",
      "metadata": {
        "id": "RANCxd5EbeVt"
      },
      "source": [
        "x = pd.getPage(0)\n",
        "y = pd.getPage(1)"
      ],
      "execution_count": null,
      "outputs": []
    },
    {
      "cell_type": "code",
      "metadata": {
        "id": "6Hhia6Sgbly1"
      },
      "source": [
        "print(x.extracttext())"
      ],
      "execution_count": null,
      "outputs": []
    },
    {
      "cell_type": "code",
      "metadata": {
        "id": "xLuupRK6bs5O"
      },
      "source": [
        "print(y.extracttext())"
      ],
      "execution_count": null,
      "outputs": []
    },
    {
      "cell_type": "markdown",
      "metadata": {
        "id": "OeFzXWg4b1AK"
      },
      "source": [
        "#extract API"
      ]
    },
    {
      "cell_type": "code",
      "metadata": {
        "id": "USW90ka6bzVs"
      },
      "source": [
        "import requests as r"
      ],
      "execution_count": 16,
      "outputs": []
    },
    {
      "cell_type": "code",
      "metadata": {
        "id": "sEN_PMdeckj0"
      },
      "source": [
        "city = str(input(\"enter the city name\"))"
      ],
      "execution_count": null,
      "outputs": []
    },
    {
      "cell_type": "code",
      "metadata": {
        "id": "uJ7Qj2xBcDv3"
      },
      "source": [
        "url = \"http://api.openweathermap.org/data/2.5/weather?q=\"+city+\"&appid=\"+key"
      ],
      "execution_count": null,
      "outputs": []
    },
    {
      "cell_type": "code",
      "metadata": {
        "id": "da21mL2qchRD"
      },
      "source": [
        "response = r.get(url)"
      ],
      "execution_count": null,
      "outputs": []
    },
    {
      "cell_type": "code",
      "metadata": {
        "id": "mMoDG7FHcxLL"
      },
      "source": [
        "print(response.status_code)"
      ],
      "execution_count": null,
      "outputs": []
    },
    {
      "cell_type": "code",
      "metadata": {
        "id": "nZT5ax4ac5Bd"
      },
      "source": [
        "print(response.json())"
      ],
      "execution_count": null,
      "outputs": []
    },
    {
      "cell_type": "markdown",
      "metadata": {
        "id": "M6v58peudAWf"
      },
      "source": [
        "#extracting from web"
      ]
    },
    {
      "cell_type": "code",
      "metadata": {
        "id": "Ukracx3ydWNe"
      },
      "source": [
        "from bs4 import BeautifulSoup"
      ],
      "execution_count": 17,
      "outputs": []
    },
    {
      "cell_type": "code",
      "metadata": {
        "id": "R65GV-ewdcpK"
      },
      "source": [
        "from urllib.request import urlopen"
      ],
      "execution_count": 18,
      "outputs": []
    },
    {
      "cell_type": "code",
      "metadata": {
        "id": "7FKHjfMLdkhO"
      },
      "source": [
        "url = \"http://quotes.toscrape.com/\""
      ],
      "execution_count": 19,
      "outputs": []
    },
    {
      "cell_type": "code",
      "metadata": {
        "id": "PBS__okldszl"
      },
      "source": [
        "html = urlopen(url)"
      ],
      "execution_count": 20,
      "outputs": []
    },
    {
      "cell_type": "code",
      "metadata": {
        "id": "2hT9j7TOdzCl"
      },
      "source": [
        "soup = BeautifulSoup(html, \"html.parser\")"
      ],
      "execution_count": 21,
      "outputs": []
    },
    {
      "cell_type": "code",
      "metadata": {
        "id": "0fgJuDS8d6kt",
        "outputId": "ff0d8565-ff3c-403e-baa9-8e42156b8385",
        "colab": {
          "base_uri": "https://localhost:8080/"
        }
      },
      "source": [
        "type(soup)"
      ],
      "execution_count": 22,
      "outputs": [
        {
          "output_type": "execute_result",
          "data": {
            "text/plain": [
              "bs4.BeautifulSoup"
            ]
          },
          "metadata": {
            "tags": []
          },
          "execution_count": 22
        }
      ]
    },
    {
      "cell_type": "code",
      "metadata": {
        "id": "sAkjulQld8kK"
      },
      "source": [
        "all_links = soup.findAll('div', {'class': \"quote\"})"
      ],
      "execution_count": 23,
      "outputs": []
    },
    {
      "cell_type": "code",
      "metadata": {
        "id": "mZFGXgY5eKt8"
      },
      "source": [
        "str_cells = str(all_links)"
      ],
      "execution_count": 24,
      "outputs": []
    },
    {
      "cell_type": "code",
      "metadata": {
        "id": "Mqrrwjm9eO3c"
      },
      "source": [
        "cleartext = BeautifulSoup(str_cells, \"html.parser\").get_text()"
      ],
      "execution_count": 25,
      "outputs": []
    },
    {
      "cell_type": "code",
      "metadata": {
        "id": "mRyDQoSceaR8",
        "outputId": "6f0ee3e7-837f-4ec4-c010-2937364737b8",
        "colab": {
          "base_uri": "https://localhost:8080/"
        }
      },
      "source": [
        "print(cleartext)"
      ],
      "execution_count": 26,
      "outputs": [
        {
          "output_type": "stream",
          "text": [
            "[\n",
            "“The world as we have created it is a process of our thinking. It cannot be changed without changing our thinking.”\n",
            "by Albert Einstein\n",
            "(about)\n",
            "\n",
            "\n",
            "            Tags:\n",
            "            \n",
            "change\n",
            "deep-thoughts\n",
            "thinking\n",
            "world\n",
            "\n",
            ", \n",
            "“It is our choices, Harry, that show what we truly are, far more than our abilities.”\n",
            "by J.K. Rowling\n",
            "(about)\n",
            "\n",
            "\n",
            "            Tags:\n",
            "            \n",
            "abilities\n",
            "choices\n",
            "\n",
            ", \n",
            "“There are only two ways to live your life. One is as though nothing is a miracle. The other is as though everything is a miracle.”\n",
            "by Albert Einstein\n",
            "(about)\n",
            "\n",
            "\n",
            "            Tags:\n",
            "            \n",
            "inspirational\n",
            "life\n",
            "live\n",
            "miracle\n",
            "miracles\n",
            "\n",
            ", \n",
            "“The person, be it gentleman or lady, who has not pleasure in a good novel, must be intolerably stupid.”\n",
            "by Jane Austen\n",
            "(about)\n",
            "\n",
            "\n",
            "            Tags:\n",
            "            \n",
            "aliteracy\n",
            "books\n",
            "classic\n",
            "humor\n",
            "\n",
            ", \n",
            "“Imperfection is beauty, madness is genius and it's better to be absolutely ridiculous than absolutely boring.”\n",
            "by Marilyn Monroe\n",
            "(about)\n",
            "\n",
            "\n",
            "            Tags:\n",
            "            \n",
            "be-yourself\n",
            "inspirational\n",
            "\n",
            ", \n",
            "“Try not to become a man of success. Rather become a man of value.”\n",
            "by Albert Einstein\n",
            "(about)\n",
            "\n",
            "\n",
            "            Tags:\n",
            "            \n",
            "adulthood\n",
            "success\n",
            "value\n",
            "\n",
            ", \n",
            "“It is better to be hated for what you are than to be loved for what you are not.”\n",
            "by André Gide\n",
            "(about)\n",
            "\n",
            "\n",
            "            Tags:\n",
            "            \n",
            "life\n",
            "love\n",
            "\n",
            ", \n",
            "“I have not failed. I've just found 10,000 ways that won't work.”\n",
            "by Thomas A. Edison\n",
            "(about)\n",
            "\n",
            "\n",
            "            Tags:\n",
            "            \n",
            "edison\n",
            "failure\n",
            "inspirational\n",
            "paraphrased\n",
            "\n",
            ", \n",
            "“A woman is like a tea bag; you never know how strong it is until it's in hot water.”\n",
            "by Eleanor Roosevelt\n",
            "(about)\n",
            "\n",
            "\n",
            "            Tags:\n",
            "            \n",
            "misattributed-eleanor-roosevelt\n",
            "\n",
            ", \n",
            "“A day without sunshine is like, you know, night.”\n",
            "by Steve Martin\n",
            "(about)\n",
            "\n",
            "\n",
            "            Tags:\n",
            "            \n",
            "humor\n",
            "obvious\n",
            "simile\n",
            "\n",
            "]\n"
          ],
          "name": "stdout"
        }
      ]
    },
    {
      "cell_type": "code",
      "metadata": {
        "id": "rOz8DWlGedCs"
      },
      "source": [
        ""
      ],
      "execution_count": null,
      "outputs": []
    }
  ]
}